{
 "cells": [
  {
   "cell_type": "markdown",
   "id": "740ca233",
   "metadata": {},
   "source": [
    "# Проект: Принятие решений в бизнесе\n",
    "\n",
    "## Описание проека\n",
    "\n",
    "Я — аналитик крупного интернет-магазина. Вместе с отделом маркетинга я подготовила список гипотез для увеличения выручки.\n",
    "\n",
    "## Описание данных\n",
    "\n",
    "### Данные для первой части\n",
    "\n",
    "   Файл `/datasets/hypothesis.csv.`\n",
    "   \n",
    "- `Hypothesis` — краткое описание гипотезы;\n",
    "- `Reach` — охват пользователей по 10-балльной шкале;\n",
    "- `Impact` — влияние на пользователей по 10-балльной шкале;\n",
    "- `Confidence` — уверенность в гипотезе по 10-балльной шкале;\n",
    "- `Efforts` — затраты ресурсов на проверку гипотезы по 10-балльной шкале. Чем больше значение Efforts, тем дороже проверка гипотезы.\n",
    "    \n",
    "### Данные для второй части\n",
    "\n",
    "   Файл `/datasets/orders.csv.`\n",
    "    \n",
    "- `transactionId` — идентификатор заказа;\n",
    "- `visitorId` — идентификатор пользователя, совершившего заказ;\n",
    "- `date` — дата, когда был совершён заказ;\n",
    "- `revenue` — выручка заказа;\n",
    "- `group` — группа A/B-теста, в которую попал заказ.\n",
    "\n",
    " Файл `/datasets/visitors.csv.`\n",
    "     \n",
    "- `date` — дата;\n",
    "- `group` — группа A/B-теста;\n",
    "- `visitors` — количество пользователей в указанную дату в указанной группе A/B-теста\n",
    "\n",
    "\n",
    "## Цель:\n",
    "\n",
    "   - Приоритизировать гипотезы;\n",
    "   - запустить A/B-тест;\n",
    "   - проанализировать результаты.\n",
    "\n",
    "## Часть 1. Приоритизация гипотез.\n",
    "\n",
    "В файле /datasets/hypothesis.csv 9 гипотез по увеличению выручки интернет-магазина с указанными параметрами Reach, Impact, Confidence, Effort.\n",
    "\n",
    "### Задачи\n",
    "\n",
    "   1. Применить фреймворк ICE для приоритизации гипотез. Отсортировать их по убыванию приоритета.\n",
    "   2. Применить фреймворк RICE для приоритизации гипотез. Отсортировать их по убыванию приоритета.\n",
    "   3. Указать, как изменилась приоритизация гипотез при применении RICE вместо ICE. Объяснить, почему так произошло.   "
   ]
  },
  {
   "cell_type": "code",
   "execution_count": 1,
   "id": "e7f369c3",
   "metadata": {},
   "outputs": [],
   "source": [
    "import pandas as pd\n",
    "import numpy as np\n",
    "import datetime as dt\n",
    "import seaborn as sns\n",
    "from matplotlib import pyplot as plt\n",
    "%matplotlib inline"
   ]
  },
  {
   "cell_type": "code",
   "execution_count": 2,
   "id": "5ee3815b",
   "metadata": {},
   "outputs": [],
   "source": [
    "try:\n",
    "    hypothesis = pd.read_csv('hypothesis.csv')\n",
    "    orders = pd.read_csv('orders.csv')\n",
    "    visitors = pd.read_csv('visitors.csv')\n",
    "except:\n",
    "    hypothesis = pd.read_csv('/datasets/hypothesis.csv')\n",
    "    orders = pd.read_csv('/datasets/orders.csv')\n",
    "    visitors = pd.read_csv('/datasets/visitors.csv')"
   ]
  },
  {
   "cell_type": "markdown",
   "id": "cb12dd81",
   "metadata": {},
   "source": [
    "Выполним предобработку данных"
   ]
  },
  {
   "cell_type": "code",
   "execution_count": 3,
   "id": "0437b3dd",
   "metadata": {},
   "outputs": [
    {
     "name": "stdout",
     "output_type": "stream",
     "text": [
      "<class 'pandas.core.frame.DataFrame'>\n",
      "RangeIndex: 9 entries, 0 to 8\n",
      "Data columns (total 5 columns):\n",
      " #   Column      Non-Null Count  Dtype \n",
      "---  ------      --------------  ----- \n",
      " 0   Hypothesis  9 non-null      object\n",
      " 1   Reach       9 non-null      int64 \n",
      " 2   Impact      9 non-null      int64 \n",
      " 3   Confidence  9 non-null      int64 \n",
      " 4   Efforts     9 non-null      int64 \n",
      "dtypes: int64(4), object(1)\n",
      "memory usage: 488.0+ bytes\n"
     ]
    }
   ],
   "source": [
    "hypothesis.info()"
   ]
  },
  {
   "cell_type": "code",
   "execution_count": 4,
   "id": "3f421276",
   "metadata": {},
   "outputs": [
    {
     "name": "stdout",
     "output_type": "stream",
     "text": [
      "<class 'pandas.core.frame.DataFrame'>\n",
      "RangeIndex: 1197 entries, 0 to 1196\n",
      "Data columns (total 5 columns):\n",
      " #   Column         Non-Null Count  Dtype \n",
      "---  ------         --------------  ----- \n",
      " 0   transactionId  1197 non-null   int64 \n",
      " 1   visitorId      1197 non-null   int64 \n",
      " 2   date           1197 non-null   object\n",
      " 3   revenue        1197 non-null   int64 \n",
      " 4   group          1197 non-null   object\n",
      "dtypes: int64(3), object(2)\n",
      "memory usage: 46.9+ KB\n"
     ]
    }
   ],
   "source": [
    "orders.info()"
   ]
  },
  {
   "cell_type": "code",
   "execution_count": 5,
   "id": "5223be2e",
   "metadata": {},
   "outputs": [
    {
     "name": "stdout",
     "output_type": "stream",
     "text": [
      "<class 'pandas.core.frame.DataFrame'>\n",
      "RangeIndex: 62 entries, 0 to 61\n",
      "Data columns (total 3 columns):\n",
      " #   Column    Non-Null Count  Dtype \n",
      "---  ------    --------------  ----- \n",
      " 0   date      62 non-null     object\n",
      " 1   group     62 non-null     object\n",
      " 2   visitors  62 non-null     int64 \n",
      "dtypes: int64(1), object(2)\n",
      "memory usage: 1.6+ KB\n"
     ]
    }
   ],
   "source": [
    "visitors.info()"
   ]
  },
  {
   "cell_type": "markdown",
   "id": "76c6f429",
   "metadata": {},
   "source": [
    "В названиях колонок видны нарушения стиля:\n",
    "\n",
    "    - строчные буквы сочетапются с прописными;\n",
    "    - тип данных в столбцах с датой и временем не соответствует их значению"
   ]
  },
  {
   "cell_type": "code",
   "execution_count": 6,
   "id": "f8e9eed2",
   "metadata": {},
   "outputs": [
    {
     "data": {
      "text/plain": [
       "Index(['hypothesis', 'reach', 'impact', 'confidence', 'efforts'], dtype='object')"
      ]
     },
     "execution_count": 6,
     "metadata": {},
     "output_type": "execute_result"
    }
   ],
   "source": [
    "hypothesis.columns = hypothesis.columns.str.lower()\n",
    "hypothesis.columns"
   ]
  },
  {
   "cell_type": "code",
   "execution_count": 7,
   "id": "c3e4dbff",
   "metadata": {},
   "outputs": [
    {
     "data": {
      "text/plain": [
       "Index(['transaction_id', 'visitor_id', 'date', 'revenue', 'group'], dtype='object')"
      ]
     },
     "execution_count": 7,
     "metadata": {},
     "output_type": "execute_result"
    }
   ],
   "source": [
    "orders = orders.rename(columns={'transactionId': 'transaction_id', 'visitorId': 'visitor_id'})\n",
    "orders.columns"
   ]
  },
  {
   "cell_type": "code",
   "execution_count": 8,
   "id": "45d2e0cc",
   "metadata": {},
   "outputs": [],
   "source": [
    "#orders['date'] = pd.to_datetime(orders['date'])\n",
    "#visitors['date'] = pd.to_datetime(visitors['date'])"
   ]
  },
  {
   "cell_type": "markdown",
   "id": "6699953f",
   "metadata": {},
   "source": [
    "Названия в колонках привели в соответствие с \"хорошим стилем\". Проверим данные на пропуски:"
   ]
  },
  {
   "cell_type": "code",
   "execution_count": 9,
   "id": "01fa4afa",
   "metadata": {},
   "outputs": [
    {
     "name": "stdout",
     "output_type": "stream",
     "text": [
      "transaction_id 0\n",
      "visitor_id 0\n",
      "date 0\n",
      "revenue 0\n",
      "group 0\n"
     ]
    }
   ],
   "source": [
    "for i in orders.columns:\n",
    "    print(i, orders[i].isna().sum())"
   ]
  },
  {
   "cell_type": "code",
   "execution_count": 10,
   "id": "70b4f996",
   "metadata": {},
   "outputs": [
    {
     "name": "stdout",
     "output_type": "stream",
     "text": [
      "hypothesis 0\n",
      "reach 0\n",
      "impact 0\n",
      "confidence 0\n",
      "efforts 0\n"
     ]
    }
   ],
   "source": [
    "for i in hypothesis.columns:\n",
    "    print(i, hypothesis[i].isna().sum())"
   ]
  },
  {
   "cell_type": "code",
   "execution_count": 11,
   "id": "33eeaef0",
   "metadata": {},
   "outputs": [
    {
     "name": "stdout",
     "output_type": "stream",
     "text": [
      "date 0\n",
      "group 0\n",
      "visitors 0\n"
     ]
    }
   ],
   "source": [
    "for i in visitors.columns:\n",
    "    print(i, visitors[i].isna().sum())"
   ]
  },
  {
   "cell_type": "markdown",
   "id": "9986cb7f",
   "metadata": {},
   "source": [
    "Пропусков в данных нет. Проверим теперь на наличие дубликатов."
   ]
  },
  {
   "cell_type": "code",
   "execution_count": 12,
   "id": "83768859",
   "metadata": {},
   "outputs": [
    {
     "name": "stdout",
     "output_type": "stream",
     "text": [
      "0\n",
      "0\n"
     ]
    },
    {
     "data": {
      "text/plain": [
       "0"
      ]
     },
     "execution_count": 12,
     "metadata": {},
     "output_type": "execute_result"
    }
   ],
   "source": [
    "print(hypothesis.duplicated().sum())\n",
    "print(orders.duplicated().sum())\n",
    "visitors.duplicated().sum()"
   ]
  },
  {
   "cell_type": "code",
   "execution_count": 13,
   "id": "4d999f25",
   "metadata": {},
   "outputs": [
    {
     "data": {
      "text/plain": [
       "array(['Добавить два новых канала привлечения трафика, что позволит привлекать на 30% больше пользователей',\n",
       "       'Запустить собственную службу доставки, что сократит срок доставки заказов',\n",
       "       'Добавить блоки рекомендаций товаров на сайт интернет магазина, чтобы повысить конверсию и средний чек заказа',\n",
       "       'Изменить структура категорий, что увеличит конверсию, т.к. пользователи быстрее найдут нужный товар',\n",
       "       'Изменить цвет фона главной страницы, чтобы увеличить вовлеченность пользователей',\n",
       "       'Добавить страницу отзывов клиентов о магазине, что позволит увеличить количество заказов',\n",
       "       'Показать на главной странице баннеры с актуальными акциями и распродажами, чтобы увеличить конверсию',\n",
       "       'Добавить форму подписки на все основные страницы, чтобы собрать базу клиентов для email-рассылок',\n",
       "       'Запустить акцию, дающую скидку на товар в день рождения'],\n",
       "      dtype=object)"
      ]
     },
     "execution_count": 13,
     "metadata": {},
     "output_type": "execute_result"
    }
   ],
   "source": [
    "hypothesis['hypothesis'].unique()"
   ]
  },
  {
   "cell_type": "code",
   "execution_count": 14,
   "id": "541c459e",
   "metadata": {},
   "outputs": [
    {
     "data": {
      "text/plain": [
       "array(['B', 'A'], dtype=object)"
      ]
     },
     "execution_count": 14,
     "metadata": {},
     "output_type": "execute_result"
    }
   ],
   "source": [
    "orders['group'].unique()"
   ]
  },
  {
   "cell_type": "code",
   "execution_count": 15,
   "id": "2bba2be9",
   "metadata": {},
   "outputs": [
    {
     "data": {
      "text/plain": [
       "array(['A', 'B'], dtype=object)"
      ]
     },
     "execution_count": 15,
     "metadata": {},
     "output_type": "execute_result"
    }
   ],
   "source": [
    "visitors['group'].unique()"
   ]
  },
  {
   "cell_type": "markdown",
   "id": "940b003e",
   "metadata": {},
   "source": [
    "Пропусков и дубликатов как явных, так и неявных не обнаружено. Данные готовы для дальнейшего изучения."
   ]
  },
  {
   "cell_type": "code",
   "execution_count": 16,
   "id": "a9f41b90",
   "metadata": {},
   "outputs": [
    {
     "data": {
      "text/plain": [
       "973"
      ]
     },
     "execution_count": 16,
     "metadata": {},
     "output_type": "execute_result"
    }
   ],
   "source": [
    "gr_a = orders[orders['group']=='A']['visitor_id'].unique()\n",
    "gr_b = orders[orders['group']=='B'].query('visitor_id in @gr_a')['visitor_id']\n",
    "gr_b = gr_b.unique()\n",
    "orders = orders.query('visitor_id not in @gr_b')\n",
    "orders['visitor_id'].nunique()"
   ]
  },
  {
   "cell_type": "markdown",
   "id": "750713af",
   "metadata": {},
   "source": [
    "1. #### Применить фреймворк ICE для приоритизации гипотез. Отсортировать их по убыванию приоритета."
   ]
  },
  {
   "cell_type": "code",
   "execution_count": 17,
   "id": "fe31296c",
   "metadata": {},
   "outputs": [
    {
     "data": {
      "text/html": [
       "<style  type=\"text/css\" >\n",
       "#T_c1ac4_row0_col1{\n",
       "            background-color:  #008000;\n",
       "            color:  #f1f1f1;\n",
       "        }#T_c1ac4_row1_col1{\n",
       "            background-color:  #2c962c;\n",
       "            color:  #000000;\n",
       "        }#T_c1ac4_row2_col1{\n",
       "            background-color:  #4da64d;\n",
       "            color:  #000000;\n",
       "        }#T_c1ac4_row3_col1{\n",
       "            background-color:  #7fbe7f;\n",
       "            color:  #000000;\n",
       "        }#T_c1ac4_row4_col1{\n",
       "            background-color:  #8ec58e;\n",
       "            color:  #000000;\n",
       "        }#T_c1ac4_row5_col1{\n",
       "            background-color:  #dcecdc;\n",
       "            color:  #000000;\n",
       "        }#T_c1ac4_row6_col1{\n",
       "            background-color:  #e6f1e6;\n",
       "            color:  #000000;\n",
       "        }#T_c1ac4_row7_col1{\n",
       "            background-color:  #e9f2e9;\n",
       "            color:  #000000;\n",
       "        }#T_c1ac4_row8_col1{\n",
       "            background-color:  #ebf3eb;\n",
       "            color:  #000000;\n",
       "        }</style><table id=\"T_c1ac4_\" ><thead>    <tr>        <th class=\"blank level0\" ></th>        <th class=\"col_heading level0 col0\" >hypothesis</th>        <th class=\"col_heading level0 col1\" >ICE</th>    </tr></thead><tbody>\n",
       "                <tr>\n",
       "                        <th id=\"T_c1ac4_level0_row0\" class=\"row_heading level0 row0\" >8</th>\n",
       "                        <td id=\"T_c1ac4_row0_col0\" class=\"data row0 col0\" >Запустить акцию, дающую скидку на товар в день рождения</td>\n",
       "                        <td id=\"T_c1ac4_row0_col1\" class=\"data row0 col1\" >16.200000</td>\n",
       "            </tr>\n",
       "            <tr>\n",
       "                        <th id=\"T_c1ac4_level0_row1\" class=\"row_heading level0 row1\" >0</th>\n",
       "                        <td id=\"T_c1ac4_row1_col0\" class=\"data row1 col0\" >Добавить два новых канала привлечения трафика, что позволит привлекать на 30% больше пользователей</td>\n",
       "                        <td id=\"T_c1ac4_row1_col1\" class=\"data row1 col1\" >13.333333</td>\n",
       "            </tr>\n",
       "            <tr>\n",
       "                        <th id=\"T_c1ac4_level0_row2\" class=\"row_heading level0 row2\" >7</th>\n",
       "                        <td id=\"T_c1ac4_row2_col0\" class=\"data row2 col0\" >Добавить форму подписки на все основные страницы, чтобы собрать базу клиентов для email-рассылок</td>\n",
       "                        <td id=\"T_c1ac4_row2_col1\" class=\"data row2 col1\" >11.200000</td>\n",
       "            </tr>\n",
       "            <tr>\n",
       "                        <th id=\"T_c1ac4_level0_row3\" class=\"row_heading level0 row3\" >6</th>\n",
       "                        <td id=\"T_c1ac4_row3_col0\" class=\"data row3 col0\" >Показать на главной странице баннеры с актуальными акциями и распродажами, чтобы увеличить конверсию</td>\n",
       "                        <td id=\"T_c1ac4_row3_col1\" class=\"data row3 col1\" >8.000000</td>\n",
       "            </tr>\n",
       "            <tr>\n",
       "                        <th id=\"T_c1ac4_level0_row4\" class=\"row_heading level0 row4\" >2</th>\n",
       "                        <td id=\"T_c1ac4_row4_col0\" class=\"data row4 col0\" >Добавить блоки рекомендаций товаров на сайт интернет магазина, чтобы повысить конверсию и средний чек заказа</td>\n",
       "                        <td id=\"T_c1ac4_row4_col1\" class=\"data row4 col1\" >7.000000</td>\n",
       "            </tr>\n",
       "            <tr>\n",
       "                        <th id=\"T_c1ac4_level0_row5\" class=\"row_heading level0 row5\" >1</th>\n",
       "                        <td id=\"T_c1ac4_row5_col0\" class=\"data row5 col0\" >Запустить собственную службу доставки, что сократит срок доставки заказов</td>\n",
       "                        <td id=\"T_c1ac4_row5_col1\" class=\"data row5 col1\" >2.000000</td>\n",
       "            </tr>\n",
       "            <tr>\n",
       "                        <th id=\"T_c1ac4_level0_row6\" class=\"row_heading level0 row6\" >5</th>\n",
       "                        <td id=\"T_c1ac4_row6_col0\" class=\"data row6 col0\" >Добавить страницу отзывов клиентов о магазине, что позволит увеличить количество заказов</td>\n",
       "                        <td id=\"T_c1ac4_row6_col1\" class=\"data row6 col1\" >1.333333</td>\n",
       "            </tr>\n",
       "            <tr>\n",
       "                        <th id=\"T_c1ac4_level0_row7\" class=\"row_heading level0 row7\" >3</th>\n",
       "                        <td id=\"T_c1ac4_row7_col0\" class=\"data row7 col0\" >Изменить структура категорий, что увеличит конверсию, т.к. пользователи быстрее найдут нужный товар</td>\n",
       "                        <td id=\"T_c1ac4_row7_col1\" class=\"data row7 col1\" >1.125000</td>\n",
       "            </tr>\n",
       "            <tr>\n",
       "                        <th id=\"T_c1ac4_level0_row8\" class=\"row_heading level0 row8\" >4</th>\n",
       "                        <td id=\"T_c1ac4_row8_col0\" class=\"data row8 col0\" >Изменить цвет фона главной страницы, чтобы увеличить вовлеченность пользователей</td>\n",
       "                        <td id=\"T_c1ac4_row8_col1\" class=\"data row8 col1\" >1.000000</td>\n",
       "            </tr>\n",
       "    </tbody></table>"
      ],
      "text/plain": [
       "<pandas.io.formats.style.Styler at 0x7f0343dd39d0>"
      ]
     },
     "execution_count": 17,
     "metadata": {},
     "output_type": "execute_result"
    }
   ],
   "source": [
    "hypothesis['ICE'] = hypothesis['impact'] * hypothesis['confidence'] / hypothesis['efforts']\n",
    "pd.set_option('display.max_colwidth', 500)\n",
    "\n",
    "cm = sns.light_palette(\"green\", as_cmap=True)\n",
    "hypothesis[['hypothesis', 'ICE']].sort_values(by='ICE', ascending=False).style.background_gradient(cmap=cm)"
   ]
  },
  {
   "cell_type": "markdown",
   "id": "28c16474",
   "metadata": {},
   "source": [
    "2. #### Применить фреймворк RICE для приоритизации гипотез. Отсортировать их по убыванию приоритета."
   ]
  },
  {
   "cell_type": "code",
   "execution_count": 18,
   "id": "f800d48a",
   "metadata": {},
   "outputs": [
    {
     "data": {
      "text/html": [
       "<style  type=\"text/css\" >\n",
       "#T_b66db_row0_col1{\n",
       "            background-color:  #008000;\n",
       "            color:  #f1f1f1;\n",
       "        }#T_b66db_row1_col1{\n",
       "            background-color:  #78bb78;\n",
       "            color:  #000000;\n",
       "        }#T_b66db_row2_col1,#T_b66db_row3_col1{\n",
       "            background-color:  #9bcc9b;\n",
       "            color:  #000000;\n",
       "        }#T_b66db_row4_col1{\n",
       "            background-color:  #cee5ce;\n",
       "            color:  #000000;\n",
       "        }#T_b66db_row5_col1{\n",
       "            background-color:  #deedde;\n",
       "            color:  #000000;\n",
       "        }#T_b66db_row6_col1,#T_b66db_row7_col1{\n",
       "            background-color:  #e9f2e9;\n",
       "            color:  #000000;\n",
       "        }#T_b66db_row8_col1{\n",
       "            background-color:  #ebf3eb;\n",
       "            color:  #000000;\n",
       "        }</style><table id=\"T_b66db_\" ><thead>    <tr>        <th class=\"blank level0\" ></th>        <th class=\"col_heading level0 col0\" >hypothesis</th>        <th class=\"col_heading level0 col1\" >RICE</th>    </tr></thead><tbody>\n",
       "                <tr>\n",
       "                        <th id=\"T_b66db_level0_row0\" class=\"row_heading level0 row0\" >7</th>\n",
       "                        <td id=\"T_b66db_row0_col0\" class=\"data row0 col0\" >Добавить форму подписки на все основные страницы, чтобы собрать базу клиентов для email-рассылок</td>\n",
       "                        <td id=\"T_b66db_row0_col1\" class=\"data row0 col1\" >112.000000</td>\n",
       "            </tr>\n",
       "            <tr>\n",
       "                        <th id=\"T_b66db_level0_row1\" class=\"row_heading level0 row1\" >2</th>\n",
       "                        <td id=\"T_b66db_row1_col0\" class=\"data row1 col0\" >Добавить блоки рекомендаций товаров на сайт интернет магазина, чтобы повысить конверсию и средний чек заказа</td>\n",
       "                        <td id=\"T_b66db_row1_col1\" class=\"data row1 col1\" >56.000000</td>\n",
       "            </tr>\n",
       "            <tr>\n",
       "                        <th id=\"T_b66db_level0_row2\" class=\"row_heading level0 row2\" >0</th>\n",
       "                        <td id=\"T_b66db_row2_col0\" class=\"data row2 col0\" >Добавить два новых канала привлечения трафика, что позволит привлекать на 30% больше пользователей</td>\n",
       "                        <td id=\"T_b66db_row2_col1\" class=\"data row2 col1\" >40.000000</td>\n",
       "            </tr>\n",
       "            <tr>\n",
       "                        <th id=\"T_b66db_level0_row3\" class=\"row_heading level0 row3\" >6</th>\n",
       "                        <td id=\"T_b66db_row3_col0\" class=\"data row3 col0\" >Показать на главной странице баннеры с актуальными акциями и распродажами, чтобы увеличить конверсию</td>\n",
       "                        <td id=\"T_b66db_row3_col1\" class=\"data row3 col1\" >40.000000</td>\n",
       "            </tr>\n",
       "            <tr>\n",
       "                        <th id=\"T_b66db_level0_row4\" class=\"row_heading level0 row4\" >8</th>\n",
       "                        <td id=\"T_b66db_row4_col0\" class=\"data row4 col0\" >Запустить акцию, дающую скидку на товар в день рождения</td>\n",
       "                        <td id=\"T_b66db_row4_col1\" class=\"data row4 col1\" >16.200000</td>\n",
       "            </tr>\n",
       "            <tr>\n",
       "                        <th id=\"T_b66db_level0_row5\" class=\"row_heading level0 row5\" >3</th>\n",
       "                        <td id=\"T_b66db_row5_col0\" class=\"data row5 col0\" >Изменить структура категорий, что увеличит конверсию, т.к. пользователи быстрее найдут нужный товар</td>\n",
       "                        <td id=\"T_b66db_row5_col1\" class=\"data row5 col1\" >9.000000</td>\n",
       "            </tr>\n",
       "            <tr>\n",
       "                        <th id=\"T_b66db_level0_row6\" class=\"row_heading level0 row6\" >1</th>\n",
       "                        <td id=\"T_b66db_row6_col0\" class=\"data row6 col0\" >Запустить собственную службу доставки, что сократит срок доставки заказов</td>\n",
       "                        <td id=\"T_b66db_row6_col1\" class=\"data row6 col1\" >4.000000</td>\n",
       "            </tr>\n",
       "            <tr>\n",
       "                        <th id=\"T_b66db_level0_row7\" class=\"row_heading level0 row7\" >5</th>\n",
       "                        <td id=\"T_b66db_row7_col0\" class=\"data row7 col0\" >Добавить страницу отзывов клиентов о магазине, что позволит увеличить количество заказов</td>\n",
       "                        <td id=\"T_b66db_row7_col1\" class=\"data row7 col1\" >4.000000</td>\n",
       "            </tr>\n",
       "            <tr>\n",
       "                        <th id=\"T_b66db_level0_row8\" class=\"row_heading level0 row8\" >4</th>\n",
       "                        <td id=\"T_b66db_row8_col0\" class=\"data row8 col0\" >Изменить цвет фона главной страницы, чтобы увеличить вовлеченность пользователей</td>\n",
       "                        <td id=\"T_b66db_row8_col1\" class=\"data row8 col1\" >3.000000</td>\n",
       "            </tr>\n",
       "    </tbody></table>"
      ],
      "text/plain": [
       "<pandas.io.formats.style.Styler at 0x7f0370740430>"
      ]
     },
     "execution_count": 18,
     "metadata": {},
     "output_type": "execute_result"
    }
   ],
   "source": [
    "hypothesis['RICE'] = hypothesis['reach'] * hypothesis['impact'] * hypothesis['confidence'] / hypothesis['efforts']\n",
    "pd.set_option('display.max_colwidth', 500)\n",
    "\n",
    "cm = sns.light_palette(\"green\", as_cmap=True)\n",
    "hypothesis[['hypothesis', 'RICE']].sort_values(by='RICE', ascending=False).style.background_gradient(cmap=cm)"
   ]
  },
  {
   "cell_type": "code",
   "execution_count": 19,
   "id": "b06b577b",
   "metadata": {},
   "outputs": [
    {
     "data": {
      "text/plain": [
       "0     3\n",
       "1     2\n",
       "2     8\n",
       "3     8\n",
       "4     3\n",
       "5     3\n",
       "6     5\n",
       "7    10\n",
       "8     1\n",
       "Name: reach, dtype: int64"
      ]
     },
     "execution_count": 19,
     "metadata": {},
     "output_type": "execute_result"
    }
   ],
   "source": [
    "hypothesis['reach']"
   ]
  },
  {
   "cell_type": "markdown",
   "id": "5ecf47da",
   "metadata": {},
   "source": [
    "3. #### Указать, как изменилась приоритизация гипотез при применении RICE вместо ICE. Объяснить, почему так произошло."
   ]
  },
  {
   "cell_type": "markdown",
   "id": "88559a62",
   "metadata": {},
   "source": [
    "Наиболее перспективные гипотезы по ICE: \n",
    "   - \"Запустить акцию, дающую скидку на товар в день рождения\",\n",
    "   - \"Добавить два новых канала привлечения трафика, что позволит привлекать на 30% больше пользователей\",\n",
    "   - \"Добавить форму подписки на все основные страницы, чтобы собрать базу клиентов для email-рассылок\".\n",
    "   \n",
    "   \n",
    "Наиболее перспективные гипотезы по RICE:\n",
    "\n",
    "   - \"Добавить форму подписки на все основные страницы, чтобы собрать базу клиентов для email-рассылок\",\n",
    "   - \"Добавить блоки рекомендаций товаров на сайт интернет магазина, чтобы повысить конверсию и средний чек заказа\",\n",
    "   - \"Добавить два новых канала привлечения трафика, что позволит привлекать на 30% больше пользователей\",\n",
    "   - \"Показать на главной странице баннеры с актуальными акциями и распродажами, чтобы увеличить конверсию\".\n",
    "   \n",
    "   \n",
    "   Набор гипотиз различается. Так получилось, потому что в RICE учитывается параметр Reach, этот параметр отвечает за охват пользователей которых затронет данное изменение. Гипотеза ***\"Добавить форму подписки на все основные страницы, чтобы собрать базу клиентов для email-рассылок\"*** по ICE находится на третьем месте, в то время как по RICE она на первом. Это говорит о том, что параметр RICE у нее 10, в то время как у других гипотез он меньше."
   ]
  },
  {
   "cell_type": "markdown",
   "id": "ae4063ca",
   "metadata": {},
   "source": [
    "## Часть 2. Анализ A/B-теста\n",
    "\n",
    "Вы провели A/B-тест и получили результаты, которые описаны в файлах `/datasets/orders.csv` и `/datasets/visitors.csv.`\n",
    "\n",
    "### Задача\n",
    "\n",
    "Проанализируйте A/B-тест:\n",
    "\n",
    "1. Постройте график кумулятивной выручки по группам. Сделайте выводы и предположения.\n",
    "\n",
    "2. Постройте график кумулятивного среднего чека по группам. Сделайте выводы и предположения.\n",
    "\n",
    "3. Постройте график относительного изменения кумулятивного среднего чека группы B к группе A. Сделайте выводы и предположения.\n",
    "\n",
    "4. Постройте график кумулятивного среднего количества заказов на посетителя по группам. Сделайте выводы и предположения.\n",
    "\n",
    "5. Постройте график относительного изменения кумулятивного среднего количества заказов на посетителя группы B к группе A. Сделайте выводы и предположения.\n",
    "\n",
    "6. Постройте точечный график количества заказов по пользователям. Сделайте выводы и предположения.\n",
    "\n",
    "7. Посчитайте 95-й и 99-й перцентили количества заказов на пользователя. Выберите границу для определения аномальных пользователей.\n",
    "\n",
    "8. Постройте точечный график стоимостей заказов. Сделайте выводы и предположения.\n",
    "\n",
    "9. Посчитайте 95-й и 99-й перцентили стоимости заказов. Выберите границу для определения аномальных заказов.\n",
    "\n",
    "10. Посчитайте статистическую значимость различий в среднем количестве заказов на посетителя между группами по «сырым» данным. Сделайте выводы и предположения.\n",
    "\n",
    "11. Посчитайте статистическую значимость различий в среднем чеке заказа между группами по «сырым» данным. Сделайте выводы и предположения.\n",
    "\n",
    "12. Посчитайте статистическую значимость различий в среднем количестве заказов на посетителя между группами по «очищенным» данным. Сделайте выводы и предположения.\n",
    "\n",
    "13. Посчитайте статистическую значимость различий в среднем чеке заказа между группами по «очищенным» данным. Сделайте выводы и предположения.\n",
    "\n",
    "14. Примите решение по результатам теста и объясните его. Варианты решений:\n",
    "\n",
    "    1. Остановить тест, зафиксировать победу одной из групп.\n",
    "    2. Остановить тест, зафиксировать отсутствие различий между группами.\n",
    "    3. Продолжить тест."
   ]
  },
  {
   "cell_type": "markdown",
   "id": "ad76a80a",
   "metadata": {},
   "source": [
    "#### 1. Постройте график кумулятивной выручки по группам. Сделайте выводы и предположения."
   ]
  },
  {
   "cell_type": "code",
   "execution_count": 20,
   "id": "4a6847c8",
   "metadata": {},
   "outputs": [],
   "source": [
    "from pandas.plotting import register_matplotlib_converters\n",
    "import warnings\n",
    "# конвертеры, которые позволяют использовать типы pandas в matplotlib  \n",
    "register_matplotlib_converters()"
   ]
  },
  {
   "cell_type": "code",
   "execution_count": 21,
   "id": "2da97462",
   "metadata": {},
   "outputs": [
    {
     "data": {
      "image/png": "[encoded data removed]",
      "text/plain": [
       "<Figure size 1080x360 with 1 Axes>"
      ]
     },
     "metadata": {
      "needs_background": "light"
     },
     "output_type": "display_data"
    }
   ],
   "source": [
    "orders['date'] = orders['date'].map(\n",
    "    lambda x: dt.datetime.strptime(x, '%Y-%m-%d')\n",
    ")\n",
    "visitors['date'] = visitors['date'].map(\n",
    "    lambda x: dt.datetime.strptime(x, '%Y-%m-%d')\n",
    ")\n",
    "\n",
    "datesGroups = orders[['date', 'group']].drop_duplicates()\n",
    "\n",
    "ordersAggregated = datesGroups.apply(\n",
    "    lambda x: orders[\n",
    "        np.logical_and(\n",
    "            orders['date'] <= x['date'], orders['group'] == x['group']\n",
    "        )\n",
    "    ].agg(\n",
    "        {\n",
    "            'date': 'max',\n",
    "            'group': 'max',\n",
    "            'transaction_id': 'nunique',\n",
    "            'visitor_id': 'nunique',\n",
    "            'revenue': 'sum',\n",
    "        }\n",
    "    ),\n",
    "    axis=1,\n",
    ").sort_values(by=['date', 'group'])\n",
    "\n",
    "visitorsAggregated = datesGroups.apply(\n",
    "    lambda x: visitors[\n",
    "        np.logical_and(\n",
    "            visitors['date'] <= x['date'], visitors['group'] == x['group']\n",
    "        )\n",
    "    ].agg({'date': 'max', 'group': 'max', 'visitors': 'sum'}),\n",
    "    axis=1,\n",
    ").sort_values(by=['date', 'group'])\n",
    "\n",
    "cumulativeData = ordersAggregated.merge(\n",
    "    visitorsAggregated, left_on=['date', 'group'], right_on=['date', 'group']\n",
    ")\n",
    "\n",
    "cumulativeData.columns = [\n",
    "    'date',\n",
    "    'group',\n",
    "    'orders',\n",
    "    'buyers',\n",
    "    'revenue',\n",
    "    'visitors',\n",
    "]\n",
    "\n",
    "cumulativeRevenueA = cumulativeData[cumulativeData['group']=='A'][['date','revenue', 'orders']]\n",
    "cumulativeRevenueB = cumulativeData[cumulativeData['group']=='B'][['date','revenue', 'orders']]\n",
    "\n",
    "plt.figure(figsize=(15,5))\n",
    "plt.plot(cumulativeRevenueA['date'], cumulativeRevenueA['revenue'], label='A')\n",
    "plt.plot(cumulativeRevenueB['date'], cumulativeRevenueB['revenue'], label='B')\n",
    "plt.title('График кумулятивной выручки по группам')\n",
    "plt.xlabel('Дата, когда был совершён заказ')\n",
    "plt.ylabel('Сумма выручка заказа')\n",
    "plt.legend()\n",
    "plt.xticks(rotation = 45)\n",
    "plt.show()"
   ]
  },
  {
   "cell_type": "markdown",
   "id": "8bec0a99",
   "metadata": {},
   "source": [
    "Выручка почти равномерно увеличивается в течение всего теста. Хороший знак.\n",
    "В середине теста сегмент B вырвался вперёд и продолжал лидировать весь остаток теста. Похоже, что аномально большие заказы всё-таки влияют на результаты."
   ]
  },
  {
   "cell_type": "markdown",
   "id": "db284238",
   "metadata": {},
   "source": [
    "#### 2. Постройте график кумулятивного среднего чека по группам. Сделайте выводы и предположения."
   ]
  },
  {
   "cell_type": "code",
   "execution_count": 22,
   "id": "175e3cdb",
   "metadata": {},
   "outputs": [
    {
     "data": {
      "image/png": "[encoded data removed]",
      "text/plain": [
       "<Figure size 1080x360 with 1 Axes>"
      ]
     },
     "metadata": {
      "needs_background": "light"
     },
     "output_type": "display_data"
    }
   ],
   "source": [
    "plt.figure(figsize=(15,5))\n",
    "plt.plot(cumulativeRevenueA['date'], cumulativeRevenueA['revenue']/cumulativeRevenueA['orders'], label='A')\n",
    "plt.plot(cumulativeRevenueB['date'], cumulativeRevenueB['revenue']/cumulativeRevenueB['orders'], label='B')\n",
    "plt.title('График кумулятивного среднего чека по группам')\n",
    "plt.xlabel('Дата, когда был совершён заказ')\n",
    "plt.ylabel('Среднее значение чека')\n",
    "plt.legend()\n",
    "plt.show()"
   ]
  },
  {
   "cell_type": "markdown",
   "id": "b6257027",
   "metadata": {},
   "source": [
    "Средний чек тоже становится равномерным ближе к концу теста: установился для группы A и после скачка продолжает падать для группы B. Возможно, в группу B середине теста попали крупные заказы (резкий всплеск на графике). Тогда ей нужно больше данных, чтобы прийти к реальному среднему чеку и установиться на его уровне.\n",
    "Кумулятивное значение среднего чека по сегментам продолжает колебаться."
   ]
  },
  {
   "cell_type": "markdown",
   "id": "ac39c289",
   "metadata": {},
   "source": [
    "#### 3.  Постройте график относительного изменения кумулятивного среднего чека группы B к группе A. Сделайте выводы и предположения."
   ]
  },
  {
   "cell_type": "code",
   "execution_count": 23,
   "id": "1bcf83cf",
   "metadata": {},
   "outputs": [
    {
     "data": {
      "image/png": "[encoded data removed]",
      "text/plain": [
       "<Figure size 1080x360 with 1 Axes>"
      ]
     },
     "metadata": {
      "needs_background": "light"
     },
     "output_type": "display_data"
    }
   ],
   "source": [
    "mergedCumulativeRevenue = cumulativeRevenueA.merge(cumulativeRevenueB, left_on='date', right_on='date', how='left', suffixes=['A', 'B'])\n",
    "plt.figure(figsize=(15,5))\n",
    "plt.plot(mergedCumulativeRevenue['date'], (mergedCumulativeRevenue['revenueB']/mergedCumulativeRevenue['ordersB'])/(\n",
    "    mergedCumulativeRevenue['revenueA']/mergedCumulativeRevenue['ordersA'])-1)\n",
    "plt.axhline(y=0, color='black', linestyle='--')\n",
    "plt.title('График относительного изменения кумулятивного среднего чека группы B к группе A')\n",
    "plt.xlabel('Дата, когда был совершён заказ')\n",
    "plt.ylabel('Среднее значение чека')\n",
    "plt.show()"
   ]
  },
  {
   "cell_type": "markdown",
   "id": "fa691e36",
   "metadata": {},
   "source": [
    "Результаты теста значительно и резко менялись в несколько дат. Видимо, именно тогда были совершены аномальные заказы."
   ]
  },
  {
   "cell_type": "markdown",
   "id": "aa9b334d",
   "metadata": {},
   "source": [
    "#### 4. Постройте график кумулятивного среднего количества заказов на посетителя по группам. Сделайте выводы и предположения."
   ]
  },
  {
   "cell_type": "code",
   "execution_count": 24,
   "id": "0b92e043",
   "metadata": {},
   "outputs": [
    {
     "data": {
      "image/png": "[encoded data removed]",
      "text/plain": [
       "<Figure size 1080x360 with 1 Axes>"
      ]
     },
     "metadata": {
      "needs_background": "light"
     },
     "output_type": "display_data"
    }
   ],
   "source": [
    "cumulativeData['conversion'] = cumulativeData['orders']/cumulativeData['visitors']\n",
    "cumulativeDataA = cumulativeData[cumulativeData['group']=='A']\n",
    "cumulativeDataB = cumulativeData[cumulativeData['group']=='B']\n",
    "\n",
    "plt.figure(figsize=(15,5))\n",
    "plt.plot(cumulativeDataA['date'], cumulativeDataA['conversion'], label='A')\n",
    "plt.plot(cumulativeDataB['date'], cumulativeDataB['conversion'], label='B')\n",
    "plt.title('График кумулятивного среднего количества заказов на посетителя по группам')\n",
    "plt.xlabel('Дата, когда был совершён заказ')\n",
    "plt.ylabel('Среднее количество заказов')\n",
    "plt.legend()\n",
    "plt.show()"
   ]
  },
  {
   "cell_type": "markdown",
   "id": "ae559ff0",
   "metadata": {},
   "source": [
    "В начале теста сегмент A имел большую конверсию, но постепенно сегмент B выровнялся и зафиксировался примерно около одного значения, больше значения сегмента A."
   ]
  },
  {
   "cell_type": "markdown",
   "id": "453d3f70",
   "metadata": {},
   "source": [
    "#### 5. Постройте график относительного изменения кумулятивного среднего количества заказов на посетителя группы B к группе A. Сделайте выводы и предположения."
   ]
  },
  {
   "cell_type": "code",
   "execution_count": 25,
   "id": "8a048654",
   "metadata": {},
   "outputs": [
    {
     "data": {
      "image/png": "[encoded data removed]",
      "text/plain": [
       "<Figure size 1080x360 with 1 Axes>"
      ]
     },
     "metadata": {
      "needs_background": "light"
     },
     "output_type": "display_data"
    }
   ],
   "source": [
    "mergedCumulativeConversions = cumulativeDataA[['date','conversion']].merge(cumulativeDataB[['date','conversion']], left_on='date', right_on='date', how='left', suffixes=['A', 'B'])\n",
    "\n",
    "plt.figure(figsize=(15,5))\n",
    "plt.plot(mergedCumulativeConversions['date'], mergedCumulativeConversions['conversionB']/mergedCumulativeConversions['conversionA']-1, label=\"Относительный прирост конверсии группы B относительно группы A\")\n",
    "plt.legend()\n",
    "\n",
    "plt.axhline(y=0, color='black', linestyle='--')\n",
    "plt.axhline(y=0.2, color='grey', linestyle='--')\n",
    "plt.title('График относительного изменения кумулятивного среднего количества заказов на посетителя группы B к группе A')\n",
    "plt.xlabel('Дата, когда был совершён заказ')\n",
    "plt.ylabel('Среднее количество заказов')\n",
    "plt.show()"
   ]
  },
  {
   "cell_type": "markdown",
   "id": "7aae5dcf",
   "metadata": {},
   "source": [
    "Построили график относительного различия конверсии между группами.\n",
    "Почти с самого начала теста группа B лидирует по конверсии: становится лучше и лучше, либо зафиксировалась около прироста в 20% относительно группы A. Потом её конверсия снова падала, но теперь постепенно растёт. "
   ]
  },
  {
   "cell_type": "markdown",
   "id": "867307df",
   "metadata": {},
   "source": [
    "#### 6. Постройте точечный график количества заказов по пользователям. Сделайте выводы и предположения."
   ]
  },
  {
   "cell_type": "code",
   "execution_count": 26,
   "id": "cf8825b5",
   "metadata": {},
   "outputs": [
    {
     "name": "stdout",
     "output_type": "stream",
     "text": [
      "        user_id  orders\n",
      "908  3967698036       3\n",
      "55    249864742       3\n",
      "478  2108163459       3\n",
      "687  2988190573       3\n",
      "890  3908431265       3\n",
      "138   611059232       3\n",
      "632  2742574263       3\n",
      "157   678354126       2\n",
      "323  1404560065       2\n",
      "452  1985475298       2\n"
     ]
    }
   ],
   "source": [
    "ordersByUsers = (\n",
    "    orders.groupby('visitor_id', as_index=False)\n",
    "    .agg({'transaction_id': 'nunique'})\n",
    ")\n",
    "ordersByUsers.columns = ['user_id', 'orders']\n",
    "\n",
    "print(ordersByUsers.sort_values(by='orders', ascending=False).head(10))"
   ]
  },
  {
   "cell_type": "code",
   "execution_count": 27,
   "id": "0b498bab",
   "metadata": {},
   "outputs": [
    {
     "data": {
      "image/png": "[encoded data removed]",
      "text/plain": [
       "<Figure size 432x288 with 1 Axes>"
      ]
     },
     "metadata": {
      "needs_background": "light"
     },
     "output_type": "display_data"
    }
   ],
   "source": [
    "x_values = pd.Series(range(0, len(ordersByUsers)))\n",
    "plt.scatter(x_values, ordersByUsers['orders'])\n",
    "plt.title('График количества заказов по пользователям')\n",
    "plt.ylabel('Заказы')\n",
    "plt.show()"
   ]
  },
  {
   "cell_type": "markdown",
   "id": "30ae7362",
   "metadata": {},
   "source": [
    "Пользователей, заказавших более двух раз, совсем мало. Они вполне могут быть аномальными. \n",
    "2 заказа — нормально или много? Ответьте на этот вопрос, посчитав выборочные перцентили."
   ]
  },
  {
   "cell_type": "markdown",
   "id": "eea1c0e2",
   "metadata": {},
   "source": [
    "#### 7. Посчитайте 95-й и 99-й перцентили количества заказов на пользователя. Выберите границу для определения аномальных пользователей."
   ]
  },
  {
   "cell_type": "code",
   "execution_count": 28,
   "id": "d52abef9",
   "metadata": {},
   "outputs": [
    {
     "data": {
      "text/plain": [
       "array([1., 2.])"
      ]
     },
     "execution_count": 28,
     "metadata": {},
     "output_type": "execute_result"
    }
   ],
   "source": [
    "np.percentile(ordersByUsers['orders'], [95, 99])"
   ]
  },
  {
   "cell_type": "markdown",
   "id": "a05adcec",
   "metadata": {},
   "source": [
    "Не более 5% пользователей оформляли больше чем 1 заказa. И 1% пользователей заказывали более двух раз. Разумно выбрать 2 заказа на одного пользователя за верхнюю границу числа заказов, и отсеять аномальных пользователей по ней."
   ]
  },
  {
   "cell_type": "markdown",
   "id": "ce570d68",
   "metadata": {},
   "source": [
    "#### 8. Постройте точечный график стоимостей заказов. Сделайте выводы и предположения."
   ]
  },
  {
   "cell_type": "code",
   "execution_count": 29,
   "id": "4c2e2ef2",
   "metadata": {},
   "outputs": [
    {
     "data": {
      "text/html": [
       "<div>\n",
       "<style scoped>\n",
       "    .dataframe tbody tr th:only-of-type {\n",
       "        vertical-align: middle;\n",
       "    }\n",
       "\n",
       "    .dataframe tbody tr th {\n",
       "        vertical-align: top;\n",
       "    }\n",
       "\n",
       "    .dataframe thead th {\n",
       "        text-align: right;\n",
       "    }\n",
       "</style>\n",
       "<table border=\"1\" class=\"dataframe\">\n",
       "  <thead>\n",
       "    <tr style=\"text-align: right;\">\n",
       "      <th></th>\n",
       "      <th>transaction_id</th>\n",
       "      <th>visitor_id</th>\n",
       "      <th>date</th>\n",
       "      <th>revenue</th>\n",
       "      <th>group</th>\n",
       "    </tr>\n",
       "  </thead>\n",
       "  <tbody>\n",
       "    <tr>\n",
       "      <th>425</th>\n",
       "      <td>590470918</td>\n",
       "      <td>1920142716</td>\n",
       "      <td>2019-08-19</td>\n",
       "      <td>1294500</td>\n",
       "      <td>B</td>\n",
       "    </tr>\n",
       "    <tr>\n",
       "      <th>1196</th>\n",
       "      <td>3936777065</td>\n",
       "      <td>2108080724</td>\n",
       "      <td>2019-08-15</td>\n",
       "      <td>202740</td>\n",
       "      <td>B</td>\n",
       "    </tr>\n",
       "    <tr>\n",
       "      <th>1136</th>\n",
       "      <td>666610489</td>\n",
       "      <td>1307669133</td>\n",
       "      <td>2019-08-13</td>\n",
       "      <td>92550</td>\n",
       "      <td>A</td>\n",
       "    </tr>\n",
       "    <tr>\n",
       "      <th>744</th>\n",
       "      <td>3668308183</td>\n",
       "      <td>888512513</td>\n",
       "      <td>2019-08-27</td>\n",
       "      <td>86620</td>\n",
       "      <td>B</td>\n",
       "    </tr>\n",
       "    <tr>\n",
       "      <th>743</th>\n",
       "      <td>3603576309</td>\n",
       "      <td>4133034833</td>\n",
       "      <td>2019-08-09</td>\n",
       "      <td>67990</td>\n",
       "      <td>A</td>\n",
       "    </tr>\n",
       "    <tr>\n",
       "      <th>1103</th>\n",
       "      <td>1348774318</td>\n",
       "      <td>1164614297</td>\n",
       "      <td>2019-08-12</td>\n",
       "      <td>66350</td>\n",
       "      <td>A</td>\n",
       "    </tr>\n",
       "    <tr>\n",
       "      <th>1099</th>\n",
       "      <td>316924019</td>\n",
       "      <td>148427295</td>\n",
       "      <td>2019-08-12</td>\n",
       "      <td>65710</td>\n",
       "      <td>A</td>\n",
       "    </tr>\n",
       "    <tr>\n",
       "      <th>949</th>\n",
       "      <td>1347999392</td>\n",
       "      <td>887908475</td>\n",
       "      <td>2019-08-21</td>\n",
       "      <td>60450</td>\n",
       "      <td>A</td>\n",
       "    </tr>\n",
       "    <tr>\n",
       "      <th>940</th>\n",
       "      <td>2420050534</td>\n",
       "      <td>4003628586</td>\n",
       "      <td>2019-08-08</td>\n",
       "      <td>58550</td>\n",
       "      <td>B</td>\n",
       "    </tr>\n",
       "    <tr>\n",
       "      <th>131</th>\n",
       "      <td>3163614039</td>\n",
       "      <td>2254586615</td>\n",
       "      <td>2019-08-22</td>\n",
       "      <td>53904</td>\n",
       "      <td>A</td>\n",
       "    </tr>\n",
       "  </tbody>\n",
       "</table>\n",
       "</div>"
      ],
      "text/plain": [
       "      transaction_id  visitor_id       date  revenue group\n",
       "425        590470918  1920142716 2019-08-19  1294500     B\n",
       "1196      3936777065  2108080724 2019-08-15   202740     B\n",
       "1136       666610489  1307669133 2019-08-13    92550     A\n",
       "744       3668308183   888512513 2019-08-27    86620     B\n",
       "743       3603576309  4133034833 2019-08-09    67990     A\n",
       "1103      1348774318  1164614297 2019-08-12    66350     A\n",
       "1099       316924019   148427295 2019-08-12    65710     A\n",
       "949       1347999392   887908475 2019-08-21    60450     A\n",
       "940       2420050534  4003628586 2019-08-08    58550     B\n",
       "131       3163614039  2254586615 2019-08-22    53904     A"
      ]
     },
     "execution_count": 29,
     "metadata": {},
     "output_type": "execute_result"
    }
   ],
   "source": [
    "orders.sort_values(by='revenue', ascending=False).head(10)"
   ]
  },
  {
   "cell_type": "code",
   "execution_count": 30,
   "id": "84a2270e",
   "metadata": {},
   "outputs": [
    {
     "data": {
      "image/png": "[encoded data removed]",
      "text/plain": [
       "<Figure size 432x288 with 1 Axes>"
      ]
     },
     "metadata": {
      "needs_background": "light"
     },
     "output_type": "display_data"
    }
   ],
   "source": [
    "x_values = pd.Series(range(0, len(orders['revenue'])))\n",
    "plt.scatter(x_values, orders['revenue'])\n",
    "plt.title('График стоимостей заказов')\n",
    "plt.ylabel('Стоимость закахов, *10^6')\n",
    "plt.show()"
   ]
  },
  {
   "cell_type": "markdown",
   "id": "7f3fe779",
   "metadata": {},
   "source": [
    "Заказов стоимостью 150 000 рублей не очень много. Есть выбросы в районе 200 000 рублей и в районе 1200 000 рублей. \n",
    "Заказ на 1,2 миллиона в интернет-магазине выглядит весьма аномально.\n",
    "По графику можно выбрать границу аномальных заказов между 20 000 и 40 000 рублей. Однако принято отсеивать от 1% до 5% наблюдений с крайними значениями. "
   ]
  },
  {
   "cell_type": "markdown",
   "id": "3ace2158",
   "metadata": {},
   "source": [
    "#### 9. Посчитайте 95-й и 99-й перцентили стоимости заказов. Выберите границу для определения аномальных заказов."
   ]
  },
  {
   "cell_type": "code",
   "execution_count": 31,
   "id": "d4a8470e",
   "metadata": {},
   "outputs": [
    {
     "data": {
      "text/plain": [
       "array([26785., 53904.])"
      ]
     },
     "execution_count": 31,
     "metadata": {},
     "output_type": "execute_result"
    }
   ],
   "source": [
    "np.percentile(orders['revenue'], [95, 99])"
   ]
  },
  {
   "cell_type": "markdown",
   "id": "e75c34d5",
   "metadata": {},
   "source": [
    "Не более, чем у 5% заказов чек дороже 26785 рублей. И не больше, чем у 1% заказов — дороже 53904 рублей. Примем за аномальных пользователей тех, кто совершил заказ на сумму свыше 40000 рублей, так как принято отсеивать от 1% до 5% наблюдений с крайними значениями. "
   ]
  },
  {
   "cell_type": "markdown",
   "id": "a235ee94",
   "metadata": {},
   "source": [
    "#### 10. Посчитайте статистическую значимость различий в среднем количестве заказов на посетителя между группами по «сырым» данным. Сделайте выводы и предположения."
   ]
  },
  {
   "cell_type": "markdown",
   "id": "d066a69b",
   "metadata": {},
   "source": [
    "Нулевая гипотеза: статистически значимых различий в среднем количестве заказов на посетителя между группами нет.\n",
    "\n",
    "Альтернативная: статистически значемые различия в среднем количестве заказов на посетителя между группами есть."
   ]
  },
  {
   "cell_type": "code",
   "execution_count": 32,
   "id": "0179431c",
   "metadata": {},
   "outputs": [
    {
     "name": "stdout",
     "output_type": "stream",
     "text": [
      "p-value = 0.011\n",
      "Относительный показатель 'B' и 'A' = 0.160\n"
     ]
    }
   ],
   "source": [
    "import scipy.stats as stats\n",
    "\n",
    "visitorsADaily = visitors[visitors['group'] == 'A'][['date', 'visitors']]\n",
    "visitorsADaily.columns = ['date', 'visitorsPerDateA']\n",
    "\n",
    "visitorsACummulative = visitorsADaily.apply(\n",
    "    lambda x: visitorsADaily[visitorsADaily['date'] <= x['date']].agg(\n",
    "        {'date': 'max', 'visitorsPerDateA': 'sum'}\n",
    "    ),\n",
    "    axis=1,\n",
    ")\n",
    "visitorsACummulative.columns = ['date', 'visitorsCummulativeA']\n",
    "\n",
    "visitorsBDaily = visitors[visitors['group'] == 'B'][['date', 'visitors']]\n",
    "visitorsBDaily.columns = ['date', 'visitorsPerDateB']\n",
    "\n",
    "visitorsBCummulative = visitorsBDaily.apply(\n",
    "    lambda x: visitorsBDaily[visitorsBDaily['date'] <= x['date']].agg(\n",
    "        {'date': 'max', 'visitorsPerDateB': 'sum'}\n",
    "    ),\n",
    "    axis=1,\n",
    ")\n",
    "visitorsBCummulative.columns = ['date', 'visitorsCummulativeB']\n",
    "\n",
    "ordersADaily = (\n",
    "    orders[orders['group'] == 'A'][['date', 'transaction_id', 'visitor_id', 'revenue']]\n",
    "    .groupby('date', as_index=False)\n",
    "    .agg({'transaction_id': pd.Series.nunique, 'revenue': 'sum'})\n",
    ")\n",
    "ordersADaily.columns = ['date', 'ordersPerDateA', 'revenuePerDateA']\n",
    "\n",
    "ordersACummulative = ordersADaily.apply(\n",
    "    lambda x: ordersADaily[ordersADaily['date'] <= x['date']].agg(\n",
    "        {'date': 'max', 'ordersPerDateA': 'sum', 'revenuePerDateA': 'sum'}\n",
    "    ),\n",
    "    axis=1,\n",
    ").sort_values(by=['date'])\n",
    "ordersACummulative.columns = [\n",
    "    'date',\n",
    "    'ordersCummulativeA',\n",
    "    'revenueCummulativeA',\n",
    "]\n",
    "\n",
    "ordersBDaily = (\n",
    "    orders[orders['group'] == 'B'][['date', 'transaction_id', 'visitor_id', 'revenue']]\n",
    "    .groupby('date', as_index=False)\n",
    "    .agg({'transaction_id': pd.Series.nunique, 'revenue': 'sum'})\n",
    ")\n",
    "ordersBDaily.columns = ['date', 'ordersPerDateB', 'revenuePerDateB']\n",
    "\n",
    "ordersBCummulative = ordersBDaily.apply(\n",
    "    lambda x: ordersBDaily[ordersBDaily['date'] <= x['date']].agg(\n",
    "        {'date': 'max', 'ordersPerDateB': 'sum', 'revenuePerDateB': 'sum'}\n",
    "    ),\n",
    "    axis=1,\n",
    ").sort_values(by=['date'])\n",
    "ordersBCummulative.columns = [\n",
    "    'date',\n",
    "    'ordersCummulativeB',\n",
    "    'revenueCummulativeB',\n",
    "]\n",
    "\n",
    "data = (\n",
    "    ordersADaily.merge(\n",
    "        ordersBDaily, left_on='date', right_on='date', how='left'\n",
    "    )\n",
    "    .merge(ordersACummulative, left_on='date', right_on='date', how='left')\n",
    "    .merge(ordersBCummulative, left_on='date', right_on='date', how='left')\n",
    "    .merge(visitorsADaily, left_on='date', right_on='date', how='left')\n",
    "    .merge(visitorsBDaily, left_on='date', right_on='date', how='left')\n",
    "    .merge(visitorsACummulative, left_on='date', right_on='date', how='left')\n",
    "    .merge(visitorsBCummulative, left_on='date', right_on='date', how='left')\n",
    ")\n",
    "\n",
    "ordersByUsersA = (\n",
    "    orders[orders['group'] == 'A']\n",
    "    .groupby('visitor_id', as_index=False)\n",
    "    .agg({'transaction_id': pd.Series.nunique})\n",
    ")\n",
    "ordersByUsersA.columns = ['userId', 'orders']\n",
    "\n",
    "ordersByUsersB = (\n",
    "    orders[orders['group'] == 'B']\n",
    "    .groupby('visitor_id', as_index=False)\n",
    "    .agg({'transaction_id': pd.Series.nunique})\n",
    ")\n",
    "ordersByUsersB.columns = ['userId', 'orders'] \n",
    "\n",
    "sampleA = pd.concat(\n",
    "    [\n",
    "        ordersByUsersA['orders'],\n",
    "        pd.Series(0, index=np.arange(data['visitorsPerDateA'].sum() - len(ordersByUsersA['orders'])), name='orders')],\n",
    "    axis=0)\n",
    "\n",
    "sampleB = pd.concat(\n",
    "    [\n",
    "        ordersByUsersB['orders'],\n",
    "        pd.Series(0, index=np.arange(data['visitorsPerDateB'].sum() - len(ordersByUsersB['orders'])), name='orders')],\n",
    "    axis=0)\n",
    "\n",
    "print(\"p-value = {0:.3f}\".format(stats.mannwhitneyu(sampleA, sampleB)[1]))\n",
    "print(\"Относительный показатель 'B' и 'A' = {0:.3f}\".format(\n",
    "    (\n",
    "        data['ordersPerDateB'].sum()/\n",
    "        data['visitorsPerDateB'].sum())/\n",
    "    (data['ordersPerDateA'].sum()/\n",
    "     data['visitorsPerDateA'].sum())-1)\n",
    "     )"
   ]
  },
  {
   "cell_type": "markdown",
   "id": "31728e4a",
   "metadata": {},
   "source": [
    "P-value значительно меньше 0.05, потому нулевую гипотезу отвергаем. Анализ «сырых данных» сообщает, что в среднем количестве заказов между группами есть статистически значимые различия. Относительный прирост среднего группы B к конверсии группы A равен 16%.\n",
    "Осталось сравнить средние чеки по «сырым данным», а затем обе метрики ещё раз после удаления выбросов."
   ]
  },
  {
   "cell_type": "markdown",
   "id": "fe9037cd",
   "metadata": {},
   "source": [
    "#### 11. Посчитайте статистическую значимость различий в среднем чеке заказа между группами по «сырым» данным. Сделайте выводы и предположения."
   ]
  },
  {
   "cell_type": "markdown",
   "id": "57c5f09b",
   "metadata": {},
   "source": [
    "Нулквая гипотеза: статистически значимых различий в среднем чеке заказа между группами по «сырым» данным нет.\n",
    "Альтернативная: статистически значемые различия в среднем чеке заказа между группами по «сырым» данным есть."
   ]
  },
  {
   "cell_type": "code",
   "execution_count": 33,
   "id": "029b835e",
   "metadata": {},
   "outputs": [
    {
     "name": "stdout",
     "output_type": "stream",
     "text": [
      "p-value = 0.829\n",
      "Относительный показатель 'B' и 'A' = 0.287\n"
     ]
    }
   ],
   "source": [
    "print(\"p-value = {0:.3f}\".format(stats.mannwhitneyu(orders[orders['group']=='A']['revenue'], orders[orders['group']=='B']['revenue'])[1]))\n",
    "print(\"Относительный показатель 'B' и 'A' = {0:.3f}\".format(orders[orders['group']=='B']['revenue'].mean()/orders[orders['group']=='A']['revenue'].mean()-1)) "
   ]
  },
  {
   "cell_type": "markdown",
   "id": "bf704dbd",
   "metadata": {},
   "source": [
    "Первое число — p-value = 0.829 больше 0.05. Значит, нулевую гипотезу о том, что статистически значимых различий в среднем числе заказов между группами нет, не отвергаем. Однако относительный различие среднего чека между сегментами равен 28,7%."
   ]
  },
  {
   "cell_type": "markdown",
   "id": "6c25020b",
   "metadata": {},
   "source": [
    "#### 12. Посчитайте статистическую значимость различий в среднем количестве заказов на посетителя между группами по «очищенным» данным. Сделайте выводы и предположения."
   ]
  },
  {
   "cell_type": "markdown",
   "id": "e4496081",
   "metadata": {},
   "source": [
    "Сначала очистим данные от аномалий. \n",
    "Напомним, что 95-й и 99-й перцентили средних чеков равны 26785 и 53904 рублям. А 95-й и 99-й перцентили числа заказов на одного пользователя равны 1 и 2 заказам на пользователя. \n",
    "Примем за аномальных пользователей тех, кто совершил 2 заказа и более и совершил заказ на сумму свыше 40 000 рублей. Так мы уберём 1% пользователей с наибольшим числом заказов и от 1% до 5% заказов с наибольшей стоимостью. Сделаем срезы пользователей с числом заказов больше 2 и пользователей, совершивших заказы дороже 40 000. Объединим их в таблице abnormalUsers. \n",
    "Узнаем, сколько всего аномальных пользователей."
   ]
  },
  {
   "cell_type": "code",
   "execution_count": 34,
   "id": "48cea8e0",
   "metadata": {},
   "outputs": [
    {
     "name": "stdout",
     "output_type": "stream",
     "text": [
      "1099    148427295\n",
      "33      249864742\n",
      "684     358944393\n",
      "648     382846391\n",
      "58      611059232\n",
      "dtype: int64\n",
      "30\n"
     ]
    }
   ],
   "source": [
    "ordersByUsersA = (\n",
    "    orders[orders['group'] == 'A']\n",
    "    .groupby('visitor_id', as_index=False)\n",
    "    .agg({'transaction_id': pd.Series.nunique})\n",
    ")\n",
    "ordersByUsersA.columns = ['userId', 'orders']\n",
    "\n",
    "ordersByUsersB = (\n",
    "    orders[orders['group'] == 'B']\n",
    "    .groupby('visitor_id', as_index=False)\n",
    "    .agg({'transaction_id': pd.Series.nunique})\n",
    ")\n",
    "ordersByUsersB.columns = ['userId', 'orders']\n",
    "\n",
    "usersWithManyOrders = pd.concat(\n",
    "    [\n",
    "        ordersByUsersA[ordersByUsersA['orders'] > 2]['userId'],\n",
    "        ordersByUsersB[ordersByUsersB['orders'] > 2]['userId'],\n",
    "    ],\n",
    "    axis=0,\n",
    ")\n",
    "usersWithExpensiveOrders = orders[orders['revenue'] > 40000]['visitor_id']\n",
    "abnormalUsers = (\n",
    "    pd.concat([usersWithManyOrders, usersWithExpensiveOrders], axis=0)\n",
    "    .drop_duplicates()\n",
    "    .sort_values()\n",
    ")\n",
    "print(abnormalUsers.head(5))\n",
    "print(abnormalUsers.shape[0]) "
   ]
  },
  {
   "cell_type": "markdown",
   "id": "657d496b",
   "metadata": {},
   "source": [
    "Всего 30 аномальных пользователей. После их удаления будет пора считать статистическую значимость. Надо выяснить, есть ли существенные различия между группами с очищенными данными.\n",
    "Посчитайте статистическую значимость различия среднего количества заказов после удаления аномальных пользователей."
   ]
  },
  {
   "cell_type": "markdown",
   "id": "10c77ef2",
   "metadata": {},
   "source": [
    "Нулквая гипотеза: статистически значимых различий в среднем количестве заказов на посетителя между группами по «очищенным» даннымнет нет.\n",
    "Альтернативная: статистически значемые различия в среднем количестве заказов на посетителя между группами по «очищенным» даннымнет есть."
   ]
  },
  {
   "cell_type": "code",
   "execution_count": 35,
   "id": "cd3b005c",
   "metadata": {},
   "outputs": [
    {
     "name": "stdout",
     "output_type": "stream",
     "text": [
      "p-value = 0.004\n",
      "Относительный показатель 'B' и 'A' = 0.205\n"
     ]
    }
   ],
   "source": [
    "sampleAFiltered = pd.concat(\n",
    "    [\n",
    "        ordersByUsersA[\n",
    "            np.logical_not(ordersByUsersA['userId'].isin(abnormalUsers))\n",
    "        ]['orders'],\n",
    "        pd.Series(\n",
    "            0,\n",
    "            index=np.arange(\n",
    "                data['visitorsPerDateA'].sum() - len(ordersByUsersA['orders'])\n",
    "            ),\n",
    "            name='orders',\n",
    "        ),\n",
    "    ],\n",
    "    axis=0,\n",
    ")\n",
    "\n",
    "sampleBFiltered = pd.concat(\n",
    "    [\n",
    "        ordersByUsersB[\n",
    "            np.logical_not(ordersByUsersB['userId'].isin(abnormalUsers))\n",
    "        ]['orders'],\n",
    "        pd.Series(\n",
    "            0,\n",
    "            index=np.arange(\n",
    "                data['visitorsPerDateB'].sum() - len(ordersByUsersB['orders'])\n",
    "            ),\n",
    "            name='orders',\n",
    "        ),\n",
    "    ],\n",
    "    axis=0,\n",
    ")\n",
    "print(\"p-value = {0:.3f}\".format(stats.mannwhitneyu(sampleAFiltered, sampleBFiltered)[1]))\n",
    "print(\"Относительный показатель 'B' и 'A' = {0:.3f}\".format(sampleBFiltered.mean()/sampleAFiltered.mean()-1)) "
   ]
  },
  {
   "cell_type": "markdown",
   "id": "1d1ade91",
   "metadata": {},
   "source": [
    "Как и в случае с сырыми данными, статистическая значимость достигнута. Нулевую гипотезу отвергаем. Это говрит о том, что по \"очищенным\" данным есть различие в среднем количестве заказов между группами. Сегмент B значительно лучше сегмента A."
   ]
  },
  {
   "cell_type": "markdown",
   "id": "6e4ab977",
   "metadata": {},
   "source": [
    "#### 13. Посчитайте статистическую значимость различий в среднем чеке заказа между группами по «очищенным» данным. Сделайте выводы и предположения."
   ]
  },
  {
   "cell_type": "markdown",
   "id": "9c31d0eb",
   "metadata": {},
   "source": [
    "Нулквая гипотеза: статистически значимых различий в среднем чеке заказа между группами по «очищенным» данным нет. \n",
    "\n",
    "Альтернативная: статистически значемые различия в среднем чеке заказа между группами по «очищенным» данным есть."
   ]
  },
  {
   "cell_type": "markdown",
   "id": "e13d95e8",
   "metadata": {},
   "source": []
  },
  {
   "cell_type": "code",
   "execution_count": 36,
   "id": "76082cb1",
   "metadata": {},
   "outputs": [
    {
     "name": "stdout",
     "output_type": "stream",
     "text": [
      "p-value = 0.937\n",
      "Относительный показатель 'B' и 'A' = 0.055\n"
     ]
    }
   ],
   "source": [
    "print(\n",
    "    \"p-value = {0:.3f}\".format(\n",
    "        stats.mannwhitneyu(\n",
    "            orders[\n",
    "                np.logical_and(\n",
    "                    orders['group'] == 'A',\n",
    "                    np.logical_not(orders['visitor_id'].isin(abnormalUsers)),\n",
    "                )\n",
    "            ]['revenue'],\n",
    "            orders[\n",
    "                np.logical_and(\n",
    "                    orders['group'] == 'B',\n",
    "                    np.logical_not(orders['visitor_id'].isin(abnormalUsers)),\n",
    "                )\n",
    "            ]['revenue'],\n",
    "        )[1]\n",
    "    )\n",
    ")\n",
    "\n",
    "print(\n",
    "    \"Относительный показатель 'B' и 'A' = {0:.3f}\".format(\n",
    "        orders[\n",
    "            np.logical_and(\n",
    "                orders['group'] == 'B',\n",
    "                np.logical_not(orders['visitor_id'].isin(abnormalUsers)),\n",
    "            )\n",
    "        ]['revenue'].mean()\n",
    "        / orders[\n",
    "            np.logical_and(\n",
    "                orders['group'] == 'A',\n",
    "                np.logical_not(orders['visitor_id'].isin(abnormalUsers)),\n",
    "            )\n",
    "        ]['revenue'].mean()\n",
    "        - 1\n",
    "    )\n",
    ") "
   ]
  },
  {
   "cell_type": "markdown",
   "id": "66b21f65",
   "metadata": {},
   "source": [
    "P-value увеличился, значит, причин отвергать нулевую гипотезу и считать, что в среднем чеке есть различия,тоже нет (как и с \"Сырыми\" данными). Но и разница между сегментами сократилась с 25.9% до 5.5%. Это значит, что после удаления выбросов в данных меньше шума."
   ]
  },
  {
   "cell_type": "markdown",
   "id": "9229a6ec",
   "metadata": {},
   "source": [
    "#### 14. Примите решение по результатам теста и объясните его. Варианты решений:\n",
    "\n",
    "- Остановить тест, зафиксировать победу одной из групп.\n",
    "- Остановить тест, зафиксировать отсутствие различий между группами.\n",
    "- Продолжить тест."
   ]
  },
  {
   "attachments": {
    "image-3.png": {
     "image/png": "[encoded data removed]"
    },
    "image-4.png": {
     "image/png": "[encoded data removed]"
    }
   },
   "cell_type": "markdown",
   "id": "29d05857",
   "metadata": {},
   "source": [
    "Имеющиеся факты:\n",
    "\n",
    "- Есть статистически значимое различие по конверсии между группами как по сырым данным, так и после фильтрации аномалий. Относительный прирост среднего группы B к конверсии группы A по \"очищенным\" данным 20.5%;\n",
    "\n",
    "- Нет статистически значимого различия по среднему чеку между группами ни по «сырым», ни по данным после фильтрации аномалий;\n",
    "\n",
    "- График различия среднего количества заказов между группами сообщает, что результаты группы B лучше A. Почти с самого начала теста группа B лидирует по конверсии: становится лучше и лучше, либо зафиксировалась около прироста в 20% относительно группы A. Потом её конверсия снова падала, но теперь постепенно растёт:\n",
    "\n",
    "![image-4.png](attachment:image-4.png)\n",
    "\n",
    "\n",
    "- График различия среднего чека колеблется: он-то и позволил нам найти аномалии. Сделать из этого графика определённые выводы нельзя:\n",
    "\n",
    "\n",
    "![image-3.png](attachment:image-3.png)\n",
    "\n",
    "\n",
    "Исходя из фактов выше можно принять решение остановить тест, признать его успешным. Группа В оказалась успешнее группы А по конверсии. По среднему чеку группы оказались примерно равны."
   ]
  }
 ],
 "metadata": {
  "ExecuteTimeLog": [
   {
    "duration": 1481,
    "start_time": "2023-09-29T19:56:10.952Z"
   },
   {
    "duration": 171,
    "start_time": "2023-09-29T19:56:12.435Z"
   },
   {
    "duration": 19,
    "start_time": "2023-09-29T19:56:12.609Z"
   },
   {
    "duration": 13,
    "start_time": "2023-09-29T19:56:12.631Z"
   },
   {
    "duration": 28,
    "start_time": "2023-09-29T19:56:12.646Z"
   },
   {
    "duration": 23,
    "start_time": "2023-09-29T19:56:12.676Z"
   },
   {
    "duration": 18,
    "start_time": "2023-09-29T19:56:12.701Z"
   },
   {
    "duration": 9,
    "start_time": "2023-09-29T19:56:12.721Z"
   },
   {
    "duration": 17,
    "start_time": "2023-09-29T19:56:12.732Z"
   },
   {
    "duration": 9,
    "start_time": "2023-09-29T19:56:12.752Z"
   },
   {
    "duration": 6,
    "start_time": "2023-09-29T19:56:12.763Z"
   },
   {
    "duration": 18,
    "start_time": "2023-09-29T19:56:12.771Z"
   },
   {
    "duration": 6,
    "start_time": "2023-09-29T19:56:12.796Z"
   },
   {
    "duration": 5,
    "start_time": "2023-09-29T19:56:12.805Z"
   },
   {
    "duration": 19,
    "start_time": "2023-09-29T19:56:12.812Z"
   },
   {
    "duration": 16,
    "start_time": "2023-09-29T19:56:12.833Z"
   },
   {
    "duration": 42,
    "start_time": "2023-09-29T19:56:12.851Z"
   },
   {
    "duration": 11,
    "start_time": "2023-09-29T19:56:12.899Z"
   },
   {
    "duration": 644,
    "start_time": "2023-09-29T19:56:12.912Z"
   },
   {
    "duration": 245,
    "start_time": "2023-09-29T19:56:13.559Z"
   },
   {
    "duration": 336,
    "start_time": "2023-09-29T19:56:13.807Z"
   },
   {
    "duration": 270,
    "start_time": "2023-09-29T19:56:14.144Z"
   },
   {
    "duration": 338,
    "start_time": "2023-09-29T19:56:14.415Z"
   },
   {
    "duration": 9,
    "start_time": "2023-09-29T19:56:14.755Z"
   },
   {
    "duration": 150,
    "start_time": "2023-09-29T19:56:14.766Z"
   },
   {
    "duration": 7,
    "start_time": "2023-09-29T19:56:14.919Z"
   },
   {
    "duration": 12,
    "start_time": "2023-09-29T19:56:14.928Z"
   },
   {
    "duration": 174,
    "start_time": "2023-09-29T19:56:14.943Z"
   },
   {
    "duration": 6,
    "start_time": "2023-09-29T19:56:15.119Z"
   },
   {
    "duration": 527,
    "start_time": "2023-09-29T19:56:15.127Z"
   },
   {
    "duration": 11,
    "start_time": "2023-09-29T19:56:15.655Z"
   },
   {
    "duration": 216,
    "start_time": "2023-09-29T19:56:15.668Z"
   },
   {
    "duration": 47,
    "start_time": "2023-09-29T19:56:15.893Z"
   },
   {
    "duration": 15,
    "start_time": "2023-09-29T19:56:15.941Z"
   },
   {
    "duration": 1491,
    "start_time": "2023-10-03T15:42:10.709Z"
   },
   {
    "duration": 281,
    "start_time": "2023-10-03T15:42:12.202Z"
   },
   {
    "duration": 14,
    "start_time": "2023-10-03T15:42:12.484Z"
   },
   {
    "duration": 31,
    "start_time": "2023-10-03T15:42:12.501Z"
   },
   {
    "duration": 20,
    "start_time": "2023-10-03T15:42:12.534Z"
   },
   {
    "duration": 16,
    "start_time": "2023-10-03T15:42:12.556Z"
   },
   {
    "duration": 7,
    "start_time": "2023-10-03T15:42:12.574Z"
   },
   {
    "duration": 13,
    "start_time": "2023-10-03T15:42:12.583Z"
   },
   {
    "duration": 12,
    "start_time": "2023-10-03T15:42:12.597Z"
   },
   {
    "duration": 11,
    "start_time": "2023-10-03T15:42:12.611Z"
   },
   {
    "duration": 8,
    "start_time": "2023-10-03T15:42:12.624Z"
   },
   {
    "duration": 33,
    "start_time": "2023-10-03T15:42:12.634Z"
   },
   {
    "duration": 16,
    "start_time": "2023-10-03T15:42:12.669Z"
   },
   {
    "duration": 27,
    "start_time": "2023-10-03T15:42:12.687Z"
   },
   {
    "duration": 13,
    "start_time": "2023-10-03T15:42:12.715Z"
   },
   {
    "duration": 22,
    "start_time": "2023-10-03T15:42:12.730Z"
   },
   {
    "duration": 75,
    "start_time": "2023-10-03T15:42:12.754Z"
   },
   {
    "duration": 17,
    "start_time": "2023-10-03T15:42:12.831Z"
   },
   {
    "duration": 7,
    "start_time": "2023-10-03T15:42:12.850Z"
   },
   {
    "duration": 31,
    "start_time": "2023-10-03T15:42:12.859Z"
   },
   {
    "duration": 617,
    "start_time": "2023-10-03T15:42:12.892Z"
   },
   {
    "duration": 237,
    "start_time": "2023-10-03T15:42:13.511Z"
   },
   {
    "duration": 385,
    "start_time": "2023-10-03T15:42:13.750Z"
   },
   {
    "duration": 272,
    "start_time": "2023-10-03T15:42:14.137Z"
   },
   {
    "duration": 383,
    "start_time": "2023-10-03T15:42:14.411Z"
   },
   {
    "duration": 12,
    "start_time": "2023-10-03T15:42:14.796Z"
   },
   {
    "duration": 255,
    "start_time": "2023-10-03T15:42:14.810Z"
   },
   {
    "duration": 51,
    "start_time": "2023-10-03T15:42:15.068Z"
   },
   {
    "duration": 195,
    "start_time": "2023-10-03T15:42:15.121Z"
   },
   {
    "duration": 252,
    "start_time": "2023-10-03T15:42:15.319Z"
   },
   {
    "duration": 6,
    "start_time": "2023-10-03T15:42:15.574Z"
   },
   {
    "duration": 411,
    "start_time": "2023-10-03T15:42:15.582Z"
   },
   {
    "duration": 13,
    "start_time": "2023-10-03T15:42:16.001Z"
   },
   {
    "duration": 159,
    "start_time": "2023-10-03T15:42:16.015Z"
   },
   {
    "duration": 53,
    "start_time": "2023-10-03T15:42:16.176Z"
   },
   {
    "duration": 15,
    "start_time": "2023-10-03T15:42:16.231Z"
   }
  ],
  "kernelspec": {
   "display_name": "Python 3 (ipykernel)",
   "language": "python",
   "name": "python3"
  },
  "language_info": {
   "codemirror_mode": {
    "name": "ipython",
    "version": 3
   },
   "file_extension": ".py",
   "mimetype": "text/x-python",
   "name": "python",
   "nbconvert_exporter": "python",
   "pygments_lexer": "ipython3",
   "version": "3.10.9"
  },
  "toc": {
   "base_numbering": 1,
   "nav_menu": {},
   "number_sections": true,
   "sideBar": true,
   "skip_h1_title": true,
   "title_cell": "Table of Contents",
   "title_sidebar": "Contents",
   "toc_cell": false,
   "toc_position": {},
   "toc_section_display": true,
   "toc_window_display": false
  }
 },
 "nbformat": 4,
 "nbformat_minor": 5
}
